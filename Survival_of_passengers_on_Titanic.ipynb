{
  "nbformat": 4,
  "nbformat_minor": 0,
  "metadata": {
    "colab": {
      "name": "Untitled0.ipynb",
      "provenance": [],
      "toc_visible": true
    },
    "kernelspec": {
      "name": "python3",
      "display_name": "Python 3"
    }
  },
  "cells": [
    {
      "cell_type": "markdown",
      "metadata": {
        "id": "6qPFPI1yaDZg",
        "colab_type": "text"
      },
      "source": [
        "#Gathering Data\n"
      ]
    },
    {
      "cell_type": "markdown",
      "metadata": {
        "id": "8XONSpMZaHtj",
        "colab_type": "text"
      },
      "source": [
        "**Importing all the necessary libraries**"
      ]
    },
    {
      "cell_type": "code",
      "metadata": {
        "id": "j10fBwt4Z-Md",
        "colab_type": "code",
        "outputId": "63544c1f-6772-4ad0-acc8-70ad192a14de",
        "colab": {
          "base_uri": "https://localhost:8080/",
          "height": 71
        }
      },
      "source": [
        "# linear algebra\n",
        "import numpy as np \n",
        "\n",
        "# data processing\n",
        "import pandas as pd \n",
        "\n",
        "# data visualization\n",
        "import seaborn as sns\n",
        "%matplotlib inline\n",
        "from matplotlib import pyplot as plt\n",
        "from matplotlib import style\n",
        "\n",
        "# Algorithms\n",
        "from sklearn import linear_model\n",
        "from sklearn.linear_model import LogisticRegression\n",
        "from sklearn.ensemble import RandomForestClassifier\n",
        "from sklearn.linear_model import Perceptron\n",
        "from sklearn.linear_model import SGDClassifier\n",
        "from sklearn.tree import DecisionTreeClassifier\n",
        "from sklearn.neighbors import KNeighborsClassifier\n",
        "from sklearn.svm import SVC, LinearSVC\n",
        "from sklearn.naive_bayes import GaussianNB"
      ],
      "execution_count": 1,
      "outputs": [
        {
          "output_type": "stream",
          "text": [
            "/usr/local/lib/python3.6/dist-packages/statsmodels/tools/_testing.py:19: FutureWarning: pandas.util.testing is deprecated. Use the functions in the public API at pandas.testing instead.\n",
            "  import pandas.util.testing as tm\n"
          ],
          "name": "stderr"
        }
      ]
    },
    {
      "cell_type": "markdown",
      "metadata": {
        "id": "2REzNoxSaPUl",
        "colab_type": "text"
      },
      "source": [
        "**Reading the dataset**"
      ]
    },
    {
      "cell_type": "code",
      "metadata": {
        "id": "uXZbI2-VaSTY",
        "colab_type": "code",
        "colab": {}
      },
      "source": [
        "test_df = pd.read_csv(\"test.csv\")\n",
        "train_df = pd.read_csv(\"train.csv\")"
      ],
      "execution_count": 0,
      "outputs": []
    },
    {
      "cell_type": "markdown",
      "metadata": {
        "id": "D93F5EhPkUWe",
        "colab_type": "text"
      },
      "source": [
        "**Displaying the dataset**"
      ]
    },
    {
      "cell_type": "code",
      "metadata": {
        "id": "NyfXSi2HkYFE",
        "colab_type": "code",
        "outputId": "fd3897e6-703d-4f30-e126-7a894d344ba8",
        "colab": {
          "base_uri": "https://localhost:8080/",
          "height": 255
        }
      },
      "source": [
        "train_df.head()\n"
      ],
      "execution_count": 3,
      "outputs": [
        {
          "output_type": "execute_result",
          "data": {
            "text/html": [
              "<div>\n",
              "<style scoped>\n",
              "    .dataframe tbody tr th:only-of-type {\n",
              "        vertical-align: middle;\n",
              "    }\n",
              "\n",
              "    .dataframe tbody tr th {\n",
              "        vertical-align: top;\n",
              "    }\n",
              "\n",
              "    .dataframe thead th {\n",
              "        text-align: right;\n",
              "    }\n",
              "</style>\n",
              "<table border=\"1\" class=\"dataframe\">\n",
              "  <thead>\n",
              "    <tr style=\"text-align: right;\">\n",
              "      <th></th>\n",
              "      <th>PassengerId</th>\n",
              "      <th>Survived</th>\n",
              "      <th>Pclass</th>\n",
              "      <th>Name</th>\n",
              "      <th>Sex</th>\n",
              "      <th>Age</th>\n",
              "      <th>SibSp</th>\n",
              "      <th>Parch</th>\n",
              "      <th>Ticket</th>\n",
              "      <th>Fare</th>\n",
              "      <th>Cabin</th>\n",
              "      <th>Embarked</th>\n",
              "    </tr>\n",
              "  </thead>\n",
              "  <tbody>\n",
              "    <tr>\n",
              "      <th>0</th>\n",
              "      <td>1</td>\n",
              "      <td>0</td>\n",
              "      <td>3</td>\n",
              "      <td>Braund, Mr. Owen Harris</td>\n",
              "      <td>male</td>\n",
              "      <td>22.0</td>\n",
              "      <td>1</td>\n",
              "      <td>0</td>\n",
              "      <td>A/5 21171</td>\n",
              "      <td>7.2500</td>\n",
              "      <td>NaN</td>\n",
              "      <td>S</td>\n",
              "    </tr>\n",
              "    <tr>\n",
              "      <th>1</th>\n",
              "      <td>2</td>\n",
              "      <td>1</td>\n",
              "      <td>1</td>\n",
              "      <td>Cumings, Mrs. John Bradley (Florence Briggs Th...</td>\n",
              "      <td>female</td>\n",
              "      <td>38.0</td>\n",
              "      <td>1</td>\n",
              "      <td>0</td>\n",
              "      <td>PC 17599</td>\n",
              "      <td>71.2833</td>\n",
              "      <td>C85</td>\n",
              "      <td>C</td>\n",
              "    </tr>\n",
              "    <tr>\n",
              "      <th>2</th>\n",
              "      <td>3</td>\n",
              "      <td>1</td>\n",
              "      <td>3</td>\n",
              "      <td>Heikkinen, Miss. Laina</td>\n",
              "      <td>female</td>\n",
              "      <td>26.0</td>\n",
              "      <td>0</td>\n",
              "      <td>0</td>\n",
              "      <td>STON/O2. 3101282</td>\n",
              "      <td>7.9250</td>\n",
              "      <td>NaN</td>\n",
              "      <td>S</td>\n",
              "    </tr>\n",
              "    <tr>\n",
              "      <th>3</th>\n",
              "      <td>4</td>\n",
              "      <td>1</td>\n",
              "      <td>1</td>\n",
              "      <td>Futrelle, Mrs. Jacques Heath (Lily May Peel)</td>\n",
              "      <td>female</td>\n",
              "      <td>35.0</td>\n",
              "      <td>1</td>\n",
              "      <td>0</td>\n",
              "      <td>113803</td>\n",
              "      <td>53.1000</td>\n",
              "      <td>C123</td>\n",
              "      <td>S</td>\n",
              "    </tr>\n",
              "    <tr>\n",
              "      <th>4</th>\n",
              "      <td>5</td>\n",
              "      <td>0</td>\n",
              "      <td>3</td>\n",
              "      <td>Allen, Mr. William Henry</td>\n",
              "      <td>male</td>\n",
              "      <td>35.0</td>\n",
              "      <td>0</td>\n",
              "      <td>0</td>\n",
              "      <td>373450</td>\n",
              "      <td>8.0500</td>\n",
              "      <td>NaN</td>\n",
              "      <td>S</td>\n",
              "    </tr>\n",
              "  </tbody>\n",
              "</table>\n",
              "</div>"
            ],
            "text/plain": [
              "   PassengerId  Survived  Pclass  ...     Fare Cabin  Embarked\n",
              "0            1         0       3  ...   7.2500   NaN         S\n",
              "1            2         1       1  ...  71.2833   C85         C\n",
              "2            3         1       3  ...   7.9250   NaN         S\n",
              "3            4         1       1  ...  53.1000  C123         S\n",
              "4            5         0       3  ...   8.0500   NaN         S\n",
              "\n",
              "[5 rows x 12 columns]"
            ]
          },
          "metadata": {
            "tags": []
          },
          "execution_count": 3
        }
      ]
    },
    {
      "cell_type": "markdown",
      "metadata": {
        "id": "H8eLmHvqaakx",
        "colab_type": "text"
      },
      "source": [
        "#Assessing the dataset"
      ]
    },
    {
      "cell_type": "markdown",
      "metadata": {
        "id": "frOQzoUBdc8h",
        "colab_type": "text"
      },
      "source": [
        "**Check dimensions of the dataframe in terms of rows and columns**"
      ]
    },
    {
      "cell_type": "code",
      "metadata": {
        "id": "wYl0qZ2Mdfit",
        "colab_type": "code",
        "outputId": "003e03fc-aaa2-4934-8f69-30398726ee6a",
        "colab": {
          "base_uri": "https://localhost:8080/",
          "height": 34
        }
      },
      "source": [
        "train_df.shape\n"
      ],
      "execution_count": 4,
      "outputs": [
        {
          "output_type": "execute_result",
          "data": {
            "text/plain": [
              "(891, 12)"
            ]
          },
          "metadata": {
            "tags": []
          },
          "execution_count": 4
        }
      ]
    },
    {
      "cell_type": "markdown",
      "metadata": {
        "id": "B-qAtblPdiDv",
        "colab_type": "text"
      },
      "source": [
        "Inference drawn:\n",
        "\n",
        "* The no.of rows are 891\n",
        "* The no.of columns are 12"
      ]
    },
    {
      "cell_type": "markdown",
      "metadata": {
        "id": "izJejaBJeHI-",
        "colab_type": "text"
      },
      "source": [
        "**Checking if the dataset has any duplicate values**"
      ]
    },
    {
      "cell_type": "code",
      "metadata": {
        "id": "zFS3S_ANeI6K",
        "colab_type": "code",
        "outputId": "8bd5616a-6518-48b2-cbb9-5b10c49741aa",
        "colab": {
          "base_uri": "https://localhost:8080/",
          "height": 34
        }
      },
      "source": [
        "sum(train_df.duplicated())\n"
      ],
      "execution_count": 5,
      "outputs": [
        {
          "output_type": "execute_result",
          "data": {
            "text/plain": [
              "0"
            ]
          },
          "metadata": {
            "tags": []
          },
          "execution_count": 5
        }
      ]
    },
    {
      "cell_type": "markdown",
      "metadata": {
        "id": "g3wBeK_7ePG1",
        "colab_type": "text"
      },
      "source": [
        "\n",
        "Inference drawn:\n",
        "\n",
        "* The dataset has no duplicate values"
      ]
    },
    {
      "cell_type": "markdown",
      "metadata": {
        "id": "xAzmg70Wju-a",
        "colab_type": "text"
      },
      "source": [
        "**Checking if datatypes are in correct format**"
      ]
    },
    {
      "cell_type": "code",
      "metadata": {
        "id": "ZEp1ZQJwj12z",
        "colab_type": "code",
        "outputId": "8346a638-159a-4e45-f002-950276c2b1a1",
        "colab": {
          "base_uri": "https://localhost:8080/",
          "height": 238
        }
      },
      "source": [
        "train_df.dtypes\n"
      ],
      "execution_count": 6,
      "outputs": [
        {
          "output_type": "execute_result",
          "data": {
            "text/plain": [
              "PassengerId      int64\n",
              "Survived         int64\n",
              "Pclass           int64\n",
              "Name            object\n",
              "Sex             object\n",
              "Age            float64\n",
              "SibSp            int64\n",
              "Parch            int64\n",
              "Ticket          object\n",
              "Fare           float64\n",
              "Cabin           object\n",
              "Embarked        object\n",
              "dtype: object"
            ]
          },
          "metadata": {
            "tags": []
          },
          "execution_count": 6
        }
      ]
    },
    {
      "cell_type": "markdown",
      "metadata": {
        "id": "Y74zGupekGnu",
        "colab_type": "text"
      },
      "source": [
        "\n",
        "Inference drawn:\n",
        "\n",
        "* Age's data type is float but to make it easy to use for the user, we can convert it in int format\n",
        "* Fare's data type is float but to make it easy to use for the user, we can convert it in int format\n",
        "* Ticket column looks like a reductant column and could be dropped\n",
        "* Name column looks like a reductant column and could be dropped\n",
        "* Having two columns 'SibSp' and 'Parch', both indicating same thing, number of family members is reductant and could be both combined to a single column "
      ]
    },
    {
      "cell_type": "markdown",
      "metadata": {
        "id": "6Gd9JglUeRKG",
        "colab_type": "text"
      },
      "source": [
        "**Checking if there are any null or missing values in the dataset**"
      ]
    },
    {
      "cell_type": "code",
      "metadata": {
        "id": "goyUtrh-eVoR",
        "colab_type": "code",
        "outputId": "2e1c3782-b27e-4df5-b00b-a77189a60e06",
        "colab": {
          "base_uri": "https://localhost:8080/",
          "height": 238
        }
      },
      "source": [
        "train_df.isnull().sum()\n"
      ],
      "execution_count": 7,
      "outputs": [
        {
          "output_type": "execute_result",
          "data": {
            "text/plain": [
              "PassengerId      0\n",
              "Survived         0\n",
              "Pclass           0\n",
              "Name             0\n",
              "Sex              0\n",
              "Age            177\n",
              "SibSp            0\n",
              "Parch            0\n",
              "Ticket           0\n",
              "Fare             0\n",
              "Cabin          687\n",
              "Embarked         2\n",
              "dtype: int64"
            ]
          },
          "metadata": {
            "tags": []
          },
          "execution_count": 7
        }
      ]
    },
    {
      "cell_type": "markdown",
      "metadata": {
        "id": "pKT7E_iCfTXC",
        "colab_type": "text"
      },
      "source": [
        "Inference drawn:\n",
        "\n",
        "* Cabin column has large amount of data missing and could be dropped\n",
        "* Age has lesser amount of data missing and those missing values could be filled with mean, or generating random numbers between mean and standard deviation\n",
        "* Embarked has very few data missing and could be replaced with mode"
      ]
    },
    {
      "cell_type": "markdown",
      "metadata": {
        "id": "9uUB8tNLe4Kb",
        "colab_type": "text"
      },
      "source": [
        "**Verifying what percent of data is missing**"
      ]
    },
    {
      "cell_type": "code",
      "metadata": {
        "id": "RX-1sZzUgO2d",
        "colab_type": "code",
        "outputId": "aaa57abf-65b0-402c-9c96-dcfcd61bce8d",
        "colab": {
          "base_uri": "https://localhost:8080/",
          "height": 204
        }
      },
      "source": [
        "total = train_df.isnull().sum().sort_values(ascending=False)\n",
        "percent_1 = train_df.isnull().sum()/train_df.isnull().count()*100\n",
        "percent_2 = (round(percent_1, 1)).sort_values(ascending=False)\n",
        "missing_data = pd.concat([total, percent_2], axis=1, keys=['Total', '%'])\n",
        "missing_data.head(5)"
      ],
      "execution_count": 8,
      "outputs": [
        {
          "output_type": "execute_result",
          "data": {
            "text/html": [
              "<div>\n",
              "<style scoped>\n",
              "    .dataframe tbody tr th:only-of-type {\n",
              "        vertical-align: middle;\n",
              "    }\n",
              "\n",
              "    .dataframe tbody tr th {\n",
              "        vertical-align: top;\n",
              "    }\n",
              "\n",
              "    .dataframe thead th {\n",
              "        text-align: right;\n",
              "    }\n",
              "</style>\n",
              "<table border=\"1\" class=\"dataframe\">\n",
              "  <thead>\n",
              "    <tr style=\"text-align: right;\">\n",
              "      <th></th>\n",
              "      <th>Total</th>\n",
              "      <th>%</th>\n",
              "    </tr>\n",
              "  </thead>\n",
              "  <tbody>\n",
              "    <tr>\n",
              "      <th>Cabin</th>\n",
              "      <td>687</td>\n",
              "      <td>77.1</td>\n",
              "    </tr>\n",
              "    <tr>\n",
              "      <th>Age</th>\n",
              "      <td>177</td>\n",
              "      <td>19.9</td>\n",
              "    </tr>\n",
              "    <tr>\n",
              "      <th>Embarked</th>\n",
              "      <td>2</td>\n",
              "      <td>0.2</td>\n",
              "    </tr>\n",
              "    <tr>\n",
              "      <th>Fare</th>\n",
              "      <td>0</td>\n",
              "      <td>0.0</td>\n",
              "    </tr>\n",
              "    <tr>\n",
              "      <th>Ticket</th>\n",
              "      <td>0</td>\n",
              "      <td>0.0</td>\n",
              "    </tr>\n",
              "  </tbody>\n",
              "</table>\n",
              "</div>"
            ],
            "text/plain": [
              "          Total     %\n",
              "Cabin       687  77.1\n",
              "Age         177  19.9\n",
              "Embarked      2   0.2\n",
              "Fare          0   0.0\n",
              "Ticket        0   0.0"
            ]
          },
          "metadata": {
            "tags": []
          },
          "execution_count": 8
        }
      ]
    },
    {
      "cell_type": "markdown",
      "metadata": {
        "id": "p0l_O38hgYLM",
        "colab_type": "text"
      },
      "source": [
        "Inference drawn:\n",
        "\n",
        "* Cabin column has 77.1% of data missing and could be dropped\n",
        "* Age has 19.9% of data missing and those missing values could be filled with mean, or generating random numbers between mean and standard deviation\n",
        "* Embarked has 0.2% of data missing and could be replaced with mode"
      ]
    },
    {
      "cell_type": "markdown",
      "metadata": {
        "id": "8yv2T_OujnaE",
        "colab_type": "text"
      },
      "source": [
        "#Cleaning data"
      ]
    },
    {
      "cell_type": "markdown",
      "metadata": {
        "id": "vOavk6XJggmJ",
        "colab_type": "text"
      },
      "source": [
        "**Handling missing data**"
      ]
    },
    {
      "cell_type": "markdown",
      "metadata": {
        "id": "L4Tgj_4Ogkh0",
        "colab_type": "text"
      },
      "source": [
        "For column 'Embarked'"
      ]
    },
    {
      "cell_type": "code",
      "metadata": {
        "id": "OMut118sh1Li",
        "colab_type": "code",
        "outputId": "8042d59c-aa54-47ee-9880-babb9d4adfe4",
        "colab": {
          "base_uri": "https://localhost:8080/",
          "height": 102
        }
      },
      "source": [
        "train_df['Embarked'].describe()\n"
      ],
      "execution_count": 9,
      "outputs": [
        {
          "output_type": "execute_result",
          "data": {
            "text/plain": [
              "count     889\n",
              "unique      3\n",
              "top         S\n",
              "freq      644\n",
              "Name: Embarked, dtype: object"
            ]
          },
          "metadata": {
            "tags": []
          },
          "execution_count": 9
        }
      ]
    },
    {
      "cell_type": "markdown",
      "metadata": {
        "id": "WgKAPNT9h5X-",
        "colab_type": "text"
      },
      "source": [
        "Inference drawn:\n",
        "* S has the highest frequency of occurence with S occuring ore than 60% of time\n",
        "* Thus 0.2% of missing data is most likely to have S"
      ]
    },
    {
      "cell_type": "markdown",
      "metadata": {
        "id": "KV_f8YaviM-v",
        "colab_type": "text"
      },
      "source": [
        "Replacing null values with the mode"
      ]
    },
    {
      "cell_type": "code",
      "metadata": {
        "id": "d_t8rMygiTg8",
        "colab_type": "code",
        "colab": {}
      },
      "source": [
        "common_value = 'S'\n",
        "data = [train_df, test_df]\n",
        "\n",
        "for dataset in data:\n",
        "    dataset['Embarked'] = dataset['Embarked'].fillna(common_value)"
      ],
      "execution_count": 0,
      "outputs": []
    },
    {
      "cell_type": "markdown",
      "metadata": {
        "id": "w8kxiGucjCHE",
        "colab_type": "text"
      },
      "source": [
        "Verifying if the column 'Embarked' still has null values or no"
      ]
    },
    {
      "cell_type": "code",
      "metadata": {
        "id": "aWzBSzTyjEVj",
        "colab_type": "code",
        "outputId": "1b675b5c-77b5-4638-d389-5b8991987f61",
        "colab": {
          "base_uri": "https://localhost:8080/",
          "height": 34
        }
      },
      "source": [
        "train_df[\"Embarked\"].isnull().sum()"
      ],
      "execution_count": 11,
      "outputs": [
        {
          "output_type": "execute_result",
          "data": {
            "text/plain": [
              "0"
            ]
          },
          "metadata": {
            "tags": []
          },
          "execution_count": 11
        }
      ]
    },
    {
      "cell_type": "markdown",
      "metadata": {
        "id": "wah894mmjPm9",
        "colab_type": "text"
      },
      "source": [
        "Inference drawn:\n",
        "\n",
        "* All null values in column 'Embarked' are successfully replaced"
      ]
    },
    {
      "cell_type": "markdown",
      "metadata": {
        "id": "BJ6WGX6PiW8x",
        "colab_type": "text"
      },
      "source": [
        "For column Age"
      ]
    },
    {
      "cell_type": "markdown",
      "metadata": {
        "id": "hhdCO93rilGr",
        "colab_type": "text"
      },
      "source": [
        "Replacing null values in Age column with random values generated between the mean and standard deviation\n"
      ]
    },
    {
      "cell_type": "code",
      "metadata": {
        "id": "hAfz5PFAixZ-",
        "colab_type": "code",
        "colab": {}
      },
      "source": [
        "data = [train_df, test_df]\n",
        "\n",
        "for dataset in data:\n",
        "    mean = train_df[\"Age\"].mean()\n",
        "    std = test_df[\"Age\"].std()\n",
        "    is_null = dataset[\"Age\"].isnull().sum()\n",
        "    # compute random numbers between the mean, std and is_null\n",
        "    rand_age = np.random.randint(mean - std, mean + std, size = is_null)\n",
        "    # fill NaN values in Age column with random values generated\n",
        "    age_slice = dataset[\"Age\"].copy()\n",
        "    age_slice[np.isnan(age_slice)] = rand_age\n",
        "    dataset[\"Age\"] = age_slice\n",
        "    dataset[\"Age\"] = train_df[\"Age\"].astype(int)\n"
      ],
      "execution_count": 0,
      "outputs": []
    },
    {
      "cell_type": "markdown",
      "metadata": {
        "id": "Tw8uq4Tbi4QC",
        "colab_type": "text"
      },
      "source": [
        "Verifying if the column 'Age' still has null values or no"
      ]
    },
    {
      "cell_type": "code",
      "metadata": {
        "id": "C05zUnd2i-7U",
        "colab_type": "code",
        "outputId": "d053db43-a6b3-40bb-8647-d4bb5859a2c2",
        "colab": {
          "base_uri": "https://localhost:8080/",
          "height": 34
        }
      },
      "source": [
        "train_df[\"Age\"].isnull().sum()"
      ],
      "execution_count": 13,
      "outputs": [
        {
          "output_type": "execute_result",
          "data": {
            "text/plain": [
              "0"
            ]
          },
          "metadata": {
            "tags": []
          },
          "execution_count": 13
        }
      ]
    },
    {
      "cell_type": "markdown",
      "metadata": {
        "id": "hZ2CBvLNjXMz",
        "colab_type": "text"
      },
      "source": [
        "Inference drawn:\n",
        "\n",
        "* All null values in column 'Age' are successfully replaced"
      ]
    },
    {
      "cell_type": "markdown",
      "metadata": {
        "id": "Zvs071rUjZk7",
        "colab_type": "text"
      },
      "source": [
        "For column 'Cabin'"
      ]
    },
    {
      "cell_type": "markdown",
      "metadata": {
        "id": "Mpzi3A24lLE1",
        "colab_type": "text"
      },
      "source": [
        "Dropping the columnn since it has a large amount of data missing"
      ]
    },
    {
      "cell_type": "code",
      "metadata": {
        "id": "NNQcZxJklRHZ",
        "colab_type": "code",
        "colab": {}
      },
      "source": [
        "\n",
        "train_df = train_df.drop(['Cabin'], axis=1)\n",
        "test_df = test_df.drop(['Cabin'], axis=1)"
      ],
      "execution_count": 0,
      "outputs": []
    },
    {
      "cell_type": "markdown",
      "metadata": {
        "id": "AQc9jO_8mKHk",
        "colab_type": "text"
      },
      "source": [
        "**Dropping reductant columns**"
      ]
    },
    {
      "cell_type": "markdown",
      "metadata": {
        "id": "ShUt3jQlmiTB",
        "colab_type": "text"
      },
      "source": [
        "Analyzing column 'Name'"
      ]
    },
    {
      "cell_type": "code",
      "metadata": {
        "id": "7Ly3pgk-mN0X",
        "colab_type": "code",
        "outputId": "5213d21c-136f-4314-f66f-7f1f679fba21",
        "colab": {
          "base_uri": "https://localhost:8080/",
          "height": 102
        }
      },
      "source": [
        "train_df['Name'].describe()"
      ],
      "execution_count": 15,
      "outputs": [
        {
          "output_type": "execute_result",
          "data": {
            "text/plain": [
              "count                                 891\n",
              "unique                                891\n",
              "top       Sandstrom, Miss. Marguerite Rut\n",
              "freq                                    1\n",
              "Name: Name, dtype: object"
            ]
          },
          "metadata": {
            "tags": []
          },
          "execution_count": 15
        }
      ]
    },
    {
      "cell_type": "markdown",
      "metadata": {
        "id": "BABvvngJmuTq",
        "colab_type": "text"
      },
      "source": [
        "Inference drawn:\n",
        "\n",
        "* Since 'Name' column has all unique values it looks like a reductant column and could be dropped"
      ]
    },
    {
      "cell_type": "markdown",
      "metadata": {
        "id": "dVPm_Zh3nHKo",
        "colab_type": "text"
      },
      "source": [
        "\n",
        "\n",
        "Analyzing column 'Ticket'"
      ]
    },
    {
      "cell_type": "code",
      "metadata": {
        "id": "CGvXXIYznLpN",
        "colab_type": "code",
        "outputId": "76a2d1c1-c636-40bb-c304-1d8822f4c166",
        "colab": {
          "base_uri": "https://localhost:8080/",
          "height": 102
        }
      },
      "source": [
        "train_df['Ticket'].describe()"
      ],
      "execution_count": 16,
      "outputs": [
        {
          "output_type": "execute_result",
          "data": {
            "text/plain": [
              "count        891\n",
              "unique       681\n",
              "top       347082\n",
              "freq           7\n",
              "Name: Ticket, dtype: object"
            ]
          },
          "metadata": {
            "tags": []
          },
          "execution_count": 16
        }
      ]
    },
    {
      "cell_type": "markdown",
      "metadata": {
        "id": "4P0pUZZ6nSnR",
        "colab_type": "text"
      },
      "source": [
        "Inference drawn:\n",
        "\n",
        "* Since 'Ticket' column has majority of unique values it looks like a reductant column and could be dropped"
      ]
    },
    {
      "cell_type": "markdown",
      "metadata": {
        "id": "BxLnmHiVM_xG",
        "colab_type": "text"
      },
      "source": [
        "\n",
        "\n",
        "Analyzing column 'Passenger ID'"
      ]
    },
    {
      "cell_type": "code",
      "metadata": {
        "id": "Edj7-UizNMhD",
        "colab_type": "code",
        "colab": {
          "base_uri": "https://localhost:8080/",
          "height": 34
        },
        "outputId": "3e34739e-d5bb-4e71-ae16-830e2d5524b7"
      },
      "source": [
        "train_df['PassengerId'].nunique()"
      ],
      "execution_count": 17,
      "outputs": [
        {
          "output_type": "execute_result",
          "data": {
            "text/plain": [
              "891"
            ]
          },
          "metadata": {
            "tags": []
          },
          "execution_count": 17
        }
      ]
    },
    {
      "cell_type": "markdown",
      "metadata": {
        "id": "46c789mgNQ6L",
        "colab_type": "text"
      },
      "source": [
        "Inference drawn:\n",
        "\n",
        "* Since 'Passenger ID' column has all unique values it looks like a reductant column and could be dropped"
      ]
    },
    {
      "cell_type": "code",
      "metadata": {
        "id": "J7_arVjbQPzf",
        "colab_type": "code",
        "colab": {}
      },
      "source": [
        "train_df = train_df.drop(['PassengerId', 'Name', 'Ticket'], axis=1)\n",
        "test_df = test_df.drop(['PassengerId', 'Name', 'Ticket'], axis=1)"
      ],
      "execution_count": 0,
      "outputs": []
    },
    {
      "cell_type": "markdown",
      "metadata": {
        "id": "bQk4xn5bQTfo",
        "colab_type": "text"
      },
      "source": [
        "Verifying"
      ]
    },
    {
      "cell_type": "code",
      "metadata": {
        "id": "x3JJOyvTPCF_",
        "colab_type": "code",
        "colab": {
          "base_uri": "https://localhost:8080/",
          "height": 204
        },
        "outputId": "c2ea6236-badb-4f6a-d1c6-58cc724a0eac"
      },
      "source": [
        "train_df.head()"
      ],
      "execution_count": 19,
      "outputs": [
        {
          "output_type": "execute_result",
          "data": {
            "text/html": [
              "<div>\n",
              "<style scoped>\n",
              "    .dataframe tbody tr th:only-of-type {\n",
              "        vertical-align: middle;\n",
              "    }\n",
              "\n",
              "    .dataframe tbody tr th {\n",
              "        vertical-align: top;\n",
              "    }\n",
              "\n",
              "    .dataframe thead th {\n",
              "        text-align: right;\n",
              "    }\n",
              "</style>\n",
              "<table border=\"1\" class=\"dataframe\">\n",
              "  <thead>\n",
              "    <tr style=\"text-align: right;\">\n",
              "      <th></th>\n",
              "      <th>Survived</th>\n",
              "      <th>Pclass</th>\n",
              "      <th>Sex</th>\n",
              "      <th>Age</th>\n",
              "      <th>SibSp</th>\n",
              "      <th>Parch</th>\n",
              "      <th>Fare</th>\n",
              "      <th>Embarked</th>\n",
              "    </tr>\n",
              "  </thead>\n",
              "  <tbody>\n",
              "    <tr>\n",
              "      <th>0</th>\n",
              "      <td>0</td>\n",
              "      <td>3</td>\n",
              "      <td>male</td>\n",
              "      <td>22</td>\n",
              "      <td>1</td>\n",
              "      <td>0</td>\n",
              "      <td>7.2500</td>\n",
              "      <td>S</td>\n",
              "    </tr>\n",
              "    <tr>\n",
              "      <th>1</th>\n",
              "      <td>1</td>\n",
              "      <td>1</td>\n",
              "      <td>female</td>\n",
              "      <td>38</td>\n",
              "      <td>1</td>\n",
              "      <td>0</td>\n",
              "      <td>71.2833</td>\n",
              "      <td>C</td>\n",
              "    </tr>\n",
              "    <tr>\n",
              "      <th>2</th>\n",
              "      <td>1</td>\n",
              "      <td>3</td>\n",
              "      <td>female</td>\n",
              "      <td>26</td>\n",
              "      <td>0</td>\n",
              "      <td>0</td>\n",
              "      <td>7.9250</td>\n",
              "      <td>S</td>\n",
              "    </tr>\n",
              "    <tr>\n",
              "      <th>3</th>\n",
              "      <td>1</td>\n",
              "      <td>1</td>\n",
              "      <td>female</td>\n",
              "      <td>35</td>\n",
              "      <td>1</td>\n",
              "      <td>0</td>\n",
              "      <td>53.1000</td>\n",
              "      <td>S</td>\n",
              "    </tr>\n",
              "    <tr>\n",
              "      <th>4</th>\n",
              "      <td>0</td>\n",
              "      <td>3</td>\n",
              "      <td>male</td>\n",
              "      <td>35</td>\n",
              "      <td>0</td>\n",
              "      <td>0</td>\n",
              "      <td>8.0500</td>\n",
              "      <td>S</td>\n",
              "    </tr>\n",
              "  </tbody>\n",
              "</table>\n",
              "</div>"
            ],
            "text/plain": [
              "   Survived  Pclass     Sex  Age  SibSp  Parch     Fare Embarked\n",
              "0         0       3    male   22      1      0   7.2500        S\n",
              "1         1       1  female   38      1      0  71.2833        C\n",
              "2         1       3  female   26      0      0   7.9250        S\n",
              "3         1       1  female   35      1      0  53.1000        S\n",
              "4         0       3    male   35      0      0   8.0500        S"
            ]
          },
          "metadata": {
            "tags": []
          },
          "execution_count": 19
        }
      ]
    },
    {
      "cell_type": "markdown",
      "metadata": {
        "id": "G-Tt4bpbngEW",
        "colab_type": "text"
      },
      "source": [
        "Having two columns 'SibSp' and 'Parch', both indicating same thing, number of family members is reductant and could be both combined to a single column "
      ]
    },
    {
      "cell_type": "code",
      "metadata": {
        "id": "eIuXFiosnmfv",
        "colab_type": "code",
        "colab": {}
      },
      "source": [
        "data = [train_df, test_df]\n",
        "for dataset in data:\n",
        "    dataset['relatives'] = dataset['SibSp'] + dataset['Parch']\n",
        "train_df = train_df.drop(['SibSp', 'Parch'], axis=1)\n",
        "test_df = test_df.drop(['SibSp', 'Parch'], axis=1)\n"
      ],
      "execution_count": 0,
      "outputs": []
    },
    {
      "cell_type": "markdown",
      "metadata": {
        "id": "5WN2dUjBlWWA",
        "colab_type": "text"
      },
      "source": [
        "**Correcting the data types**"
      ]
    },
    {
      "cell_type": "code",
      "metadata": {
        "id": "6vqfByJbl2xZ",
        "colab_type": "code",
        "outputId": "f4b1fc4f-cd0a-4f2b-9333-94b589af3c93",
        "colab": {
          "base_uri": "https://localhost:8080/",
          "height": 153
        }
      },
      "source": [
        "train_df.dtypes"
      ],
      "execution_count": 21,
      "outputs": [
        {
          "output_type": "execute_result",
          "data": {
            "text/plain": [
              "Survived       int64\n",
              "Pclass         int64\n",
              "Sex           object\n",
              "Age            int64\n",
              "Fare         float64\n",
              "Embarked      object\n",
              "relatives      int64\n",
              "dtype: object"
            ]
          },
          "metadata": {
            "tags": []
          },
          "execution_count": 21
        }
      ]
    },
    {
      "cell_type": "markdown",
      "metadata": {
        "id": "8B9D4llMl9fk",
        "colab_type": "text"
      },
      "source": [
        "Inference drawn\n",
        "\n",
        "* Fare's data type is float but to make it easy to use for the user, we can convert it in int format"
      ]
    },
    {
      "cell_type": "code",
      "metadata": {
        "id": "J4JE9Uu8GM4c",
        "colab_type": "code",
        "colab": {}
      },
      "source": [
        "data = [train_df, test_df]\n",
        "\n",
        "for dataset in data:\n",
        "    dataset['Fare'] = dataset['Fare'].fillna(0)\n",
        "    dataset['Fare'] = dataset['Fare'].astype(int)"
      ],
      "execution_count": 0,
      "outputs": []
    },
    {
      "cell_type": "markdown",
      "metadata": {
        "id": "8lHkEK2aG12x",
        "colab_type": "text"
      },
      "source": [
        "**Converting columns having object data types to numerical equivalent for ease**"
      ]
    },
    {
      "cell_type": "markdown",
      "metadata": {
        "id": "Ba9fN26iHBj_",
        "colab_type": "text"
      },
      "source": [
        "For column 'Sex'"
      ]
    },
    {
      "cell_type": "code",
      "metadata": {
        "id": "6PRKhgQEHHl2",
        "colab_type": "code",
        "colab": {}
      },
      "source": [
        "genders = {\"male\": 0, \"female\": 1}\n",
        "data = [train_df, test_df]\n",
        "\n",
        "for dataset in data:\n",
        "    dataset['Sex'] = dataset['Sex'].map(genders)"
      ],
      "execution_count": 0,
      "outputs": []
    },
    {
      "cell_type": "markdown",
      "metadata": {
        "id": "if29rPW5HLN8",
        "colab_type": "text"
      },
      "source": [
        "For column 'Embarked'"
      ]
    },
    {
      "cell_type": "code",
      "metadata": {
        "id": "oKCP7vziHVC1",
        "colab_type": "code",
        "colab": {}
      },
      "source": [
        "ports = {\"S\": 0, \"C\": 1, \"Q\": 2}\n",
        "data = [train_df, test_df]\n",
        "\n",
        "for dataset in data:\n",
        "    dataset['Embarked'] = dataset['Embarked'].map(ports)"
      ],
      "execution_count": 0,
      "outputs": []
    },
    {
      "cell_type": "markdown",
      "metadata": {
        "id": "bzrLnlxvHly1",
        "colab_type": "text"
      },
      "source": [
        "#Analyzing the data"
      ]
    },
    {
      "cell_type": "markdown",
      "metadata": {
        "id": "hYvEhAFJHqV0",
        "colab_type": "text"
      },
      "source": [
        "**Does gender influence one's survival rate?**"
      ]
    },
    {
      "cell_type": "code",
      "metadata": {
        "id": "CtPUoHiTHzmi",
        "colab_type": "code",
        "colab": {
          "base_uri": "https://localhost:8080/",
          "height": 295
        },
        "outputId": "6e4c7037-c78f-4f1d-dda2-50bc6a7426e1"
      },
      "source": [
        "survived = 'survived'\n",
        "not_survived = 'not survived'\n",
        "fig, axes = plt.subplots(nrows=1, ncols=2,figsize=(10, 4))\n",
        "women = train_df[train_df['Sex']==1]\n",
        "men = train_df[train_df['Sex']==0]\n",
        "ax = sns.distplot(women[women['Survived']==1].Age.dropna(), bins=18, label = survived, ax = axes[0], kde =False)\n",
        "ax = sns.distplot(women[women['Survived']==0].Age.dropna(), bins=40, label = not_survived, ax = axes[0], kde =False)\n",
        "ax.legend()\n",
        "ax.set_title('Female')\n",
        "ax = sns.distplot(men[men['Survived']==1].Age.dropna(), bins=18, label = survived, ax = axes[1], kde = False)\n",
        "ax = sns.distplot(men[men['Survived']==0].Age.dropna(), bins=40, label = not_survived, ax = axes[1], kde = False)\n",
        "ax.legend()\n",
        "_ = ax.set_title('Male')\n"
      ],
      "execution_count": 25,
      "outputs": [
        {
          "output_type": "display_data",
          "data": {
            "image/png": "[encoded data removed]",
            "text/plain": [
              "<Figure size 720x288 with 2 Axes>"
            ]
          },
          "metadata": {
            "tags": [],
            "needs_background": "light"
          }
        }
      ]
    },
    {
      "cell_type": "markdown",
      "metadata": {
        "id": "BsKtXAX0IT-P",
        "colab_type": "text"
      },
      "source": [
        "Inference drawn:\n",
        "\n",
        "* The plot clearly confirms that majority on women survived on the R.M.S. Titanic while the same doesn’t apply for the males. Males, especially between the age group of 20–40 had a higher chance of not surviving.\n",
        "* Thus it does prove that gender did impact one’s survival on the titanic"
      ]
    },
    {
      "cell_type": "markdown",
      "metadata": {
        "id": "lcGRvvKGIZJu",
        "colab_type": "text"
      },
      "source": [
        "**Do wealthy people have a higher chance of survival?**"
      ]
    },
    {
      "cell_type": "markdown",
      "metadata": {
        "id": "mzz1ZO4vIhRO",
        "colab_type": "text"
      },
      "source": [
        "There was no direct way to measure one’s wealth. But it could be estimated from the class an individual is travelling in. There were 3 passenger classes on R.M.S. Titanic "
      ]
    },
    {
      "cell_type": "code",
      "metadata": {
        "id": "3ZgodNPIIfvm",
        "colab_type": "code",
        "colab": {
          "base_uri": "https://localhost:8080/",
          "height": 296
        },
        "outputId": "ca74c699-b225-4cff-e821-8f4641dd61a2"
      },
      "source": [
        "sns.barplot(x='Pclass', y='Survived', data=train_df)\n"
      ],
      "execution_count": 26,
      "outputs": [
        {
          "output_type": "execute_result",
          "data": {
            "text/plain": [
              "<matplotlib.axes._subplots.AxesSubplot at 0x7fbb5048f668>"
            ]
          },
          "metadata": {
            "tags": []
          },
          "execution_count": 26
        },
        {
          "output_type": "display_data",
          "data": {
            "image/png": "[encoded data removed]",
            "text/plain": [
              "<Figure size 432x288 with 1 Axes>"
            ]
          },
          "metadata": {
            "tags": [],
            "needs_background": "light"
          }
        }
      ]
    },
    {
      "cell_type": "markdown",
      "metadata": {
        "id": "h-lkJKMZIgaT",
        "colab_type": "text"
      },
      "source": [
        "Inference drawn:\n",
        "\n",
        "* The graph above clearly indicates that wealth does play an impact on one’s survival.\n",
        "* Approximately 62% people from first class survived, whereas around 48% people from second class survived.\n",
        "* The percentage of people surviving from 3rd class is less than half the percentage of people surviving from first class with only 25% people surviving\n"
      ]
    },
    {
      "cell_type": "markdown",
      "metadata": {
        "id": "unbbc8vXIzRh",
        "colab_type": "text"
      },
      "source": [
        "**Do people with a larger family have more chances of survival?**"
      ]
    },
    {
      "cell_type": "code",
      "metadata": {
        "id": "XDAdg_KMI3O6",
        "colab_type": "code",
        "colab": {
          "base_uri": "https://localhost:8080/",
          "height": 423
        },
        "outputId": "a0ae1f9b-a5a0-4d96-a38a-e4008ce65f2e"
      },
      "source": [
        "axes = sns.factorplot('relatives','Survived', data=train_df, aspect = 2.5, )\n"
      ],
      "execution_count": 27,
      "outputs": [
        {
          "output_type": "stream",
          "text": [
            "/usr/local/lib/python3.6/dist-packages/seaborn/categorical.py:3669: UserWarning: The `factorplot` function has been renamed to `catplot`. The original name will be removed in a future release. Please update your code. Note that the default `kind` in `factorplot` (`'point'`) has changed `'strip'` in `catplot`.\n",
            "  warnings.warn(msg)\n"
          ],
          "name": "stderr"
        },
        {
          "output_type": "display_data",
          "data": {
            "image/png": "[encoded data removed]",
            "text/plain": [
              "<Figure size 900x360 with 1 Axes>"
            ]
          },
          "metadata": {
            "tags": [],
            "needs_background": "light"
          }
        }
      ]
    },
    {
      "cell_type": "markdown",
      "metadata": {
        "id": "qfP73UyuI3xZ",
        "colab_type": "text"
      },
      "source": [
        "Inference drawn:\n",
        "\n",
        "* The plot above shows the chances of one’s survival with respect to the number of family members an individual has\n",
        "* People travelling solo have less chances of survival as compared to people travelling with upto 3 family members. However the same does not hold true as number of family members increase.\n",
        "* People having 4 or more family members have less chances of survival\n"
      ]
    },
    {
      "cell_type": "markdown",
      "metadata": {
        "id": "zes-beP2JWj0",
        "colab_type": "text"
      },
      "source": [
        "**Does the port one embarked from influence one's survival rate?**"
      ]
    },
    {
      "cell_type": "code",
      "metadata": {
        "id": "zk44A4C_JgaT",
        "colab_type": "code",
        "colab": {
          "base_uri": "https://localhost:8080/",
          "height": 1000
        },
        "outputId": "95c4c759-85af-4d71-939f-7cd3eb315a46"
      },
      "source": [
        "FacetGrid = sns.FacetGrid(train_df, row='Embarked', size=4.5, aspect=1.6)\n",
        "FacetGrid.map(sns.pointplot, 'Pclass', 'Survived', 'Sex', palette=None,  order=None, hue_order=None )\n",
        "FacetGrid.add_legend()"
      ],
      "execution_count": 28,
      "outputs": [
        {
          "output_type": "stream",
          "text": [
            "/usr/local/lib/python3.6/dist-packages/seaborn/axisgrid.py:243: UserWarning: The `size` parameter has been renamed to `height`; please update your code.\n",
            "  warnings.warn(msg, UserWarning)\n"
          ],
          "name": "stderr"
        },
        {
          "output_type": "execute_result",
          "data": {
            "text/plain": [
              "<seaborn.axisgrid.FacetGrid at 0x7fbb4e99c208>"
            ]
          },
          "metadata": {
            "tags": []
          },
          "execution_count": 28
        },
        {
          "output_type": "display_data",
          "data": {
            "image/png": "[encoded data removed]",
            "text/plain": [
              "<Figure size 560.775x972 with 3 Axes>"
            ]
          },
          "metadata": {
            "tags": [],
            "needs_background": "light"
          }
        }
      ]
    },
    {
      "cell_type": "markdown",
      "metadata": {
        "id": "ffM72KdRJqE8",
        "colab_type": "text"
      },
      "source": [
        "Inference drawn:\n",
        "\n",
        "* It shows 0 for males and 1 for females\n",
        "* It shows graphs of males and females who boarded the R.M.S. titanic from port S,P and Q i.e. 0,1,and 2 respectively ans shows where they suirvived or no\n",
        "* The correlation is easily seen in the above graphs"
      ]
    },
    {
      "cell_type": "markdown",
      "metadata": {
        "id": "yRdFmAopKEfC",
        "colab_type": "text"
      },
      "source": [
        "#Modelling the data"
      ]
    },
    {
      "cell_type": "markdown",
      "metadata": {
        "id": "vF-rL4OMKHpI",
        "colab_type": "text"
      },
      "source": [
        "Normalizing age column"
      ]
    },
    {
      "cell_type": "code",
      "metadata": {
        "id": "pt5MA6EPKSlz",
        "colab_type": "code",
        "colab": {}
      },
      "source": [
        "data = [train_df, test_df]\n",
        "for dataset in data:\n",
        "    dataset['Age'] = dataset['Age'].astype(int)\n",
        "    dataset.loc[ dataset['Age'] <= 11, 'Age'] = 0\n",
        "    dataset.loc[(dataset['Age'] > 11) & (dataset['Age'] <= 18), 'Age'] = 1\n",
        "    dataset.loc[(dataset['Age'] > 18) & (dataset['Age'] <= 22), 'Age'] = 2\n",
        "    dataset.loc[(dataset['Age'] > 22) & (dataset['Age'] <= 27), 'Age'] = 3\n",
        "    dataset.loc[(dataset['Age'] > 27) & (dataset['Age'] <= 33), 'Age'] = 4\n",
        "    dataset.loc[(dataset['Age'] > 33) & (dataset['Age'] <= 40), 'Age'] = 5\n",
        "    dataset.loc[(dataset['Age'] > 40) & (dataset['Age'] <= 66), 'Age'] = 6\n",
        "    dataset.loc[ dataset['Age'] > 66, 'Age'] = 6"
      ],
      "execution_count": 0,
      "outputs": []
    },
    {
      "cell_type": "markdown",
      "metadata": {
        "id": "rEZ8dfYVKXfv",
        "colab_type": "text"
      },
      "source": [
        "Verifying the step above"
      ]
    },
    {
      "cell_type": "code",
      "metadata": {
        "id": "lW_Ps9kIKa3i",
        "colab_type": "code",
        "colab": {
          "base_uri": "https://localhost:8080/",
          "height": 153
        },
        "outputId": "801496c6-a9dd-40a6-d6e7-8297aab79edc"
      },
      "source": [
        "train_df['Age'].value_counts()\n"
      ],
      "execution_count": 30,
      "outputs": [
        {
          "output_type": "execute_result",
          "data": {
            "text/plain": [
              "4    164\n",
              "6    161\n",
              "5    152\n",
              "3    131\n",
              "2    116\n",
              "1     99\n",
              "0     68\n",
              "Name: Age, dtype: int64"
            ]
          },
          "metadata": {
            "tags": []
          },
          "execution_count": 30
        }
      ]
    },
    {
      "cell_type": "markdown",
      "metadata": {
        "id": "paMi2yARKhtY",
        "colab_type": "text"
      },
      "source": [
        "Normalizing the 'Fare' column"
      ]
    },
    {
      "cell_type": "code",
      "metadata": {
        "id": "JwBjHgjZKoTd",
        "colab_type": "code",
        "colab": {}
      },
      "source": [
        "data = [train_df, test_df]\n",
        "\n",
        "for dataset in data:\n",
        "    dataset.loc[ dataset['Fare'] <= 7.91, 'Fare'] = 0\n",
        "    dataset.loc[(dataset['Fare'] > 7.91) & (dataset['Fare'] <= 14.454), 'Fare'] = 1\n",
        "    dataset.loc[(dataset['Fare'] > 14.454) & (dataset['Fare'] <= 31), 'Fare']   = 2\n",
        "    dataset.loc[(dataset['Fare'] > 31) & (dataset['Fare'] <= 99), 'Fare']   = 3\n",
        "    dataset.loc[(dataset['Fare'] > 99) & (dataset['Fare'] <= 250), 'Fare']   = 4\n",
        "    dataset.loc[ dataset['Fare'] > 250, 'Fare'] = 5\n",
        "    dataset['Fare'] = dataset['Fare'].astype(int)"
      ],
      "execution_count": 0,
      "outputs": []
    },
    {
      "cell_type": "markdown",
      "metadata": {
        "id": "3U7TcN2cKtRG",
        "colab_type": "text"
      },
      "source": [
        "Verifying the step above"
      ]
    },
    {
      "cell_type": "code",
      "metadata": {
        "id": "5Roaf2EiKuXB",
        "colab_type": "code",
        "colab": {
          "base_uri": "https://localhost:8080/",
          "height": 136
        },
        "outputId": "7717b05a-d988-4281-f1e5-410730835dc4"
      },
      "source": [
        "train_df['Fare'].value_counts()\n"
      ],
      "execution_count": 32,
      "outputs": [
        {
          "output_type": "execute_result",
          "data": {
            "text/plain": [
              "0    241\n",
              "2    223\n",
              "1    216\n",
              "3    158\n",
              "4     44\n",
              "5      9\n",
              "Name: Fare, dtype: int64"
            ]
          },
          "metadata": {
            "tags": []
          },
          "execution_count": 32
        }
      ]
    },
    {
      "cell_type": "markdown",
      "metadata": {
        "id": "PCW01PN6K1h5",
        "colab_type": "text"
      },
      "source": [
        "Displaying the data set"
      ]
    },
    {
      "cell_type": "code",
      "metadata": {
        "id": "fB2aEpDWK_pE",
        "colab_type": "code",
        "colab": {
          "base_uri": "https://localhost:8080/",
          "height": 204
        },
        "outputId": "ebfb13ce-1552-42c0-f56f-40676be2eab3"
      },
      "source": [
        "train_df.head()"
      ],
      "execution_count": 33,
      "outputs": [
        {
          "output_type": "execute_result",
          "data": {
            "text/html": [
              "<div>\n",
              "<style scoped>\n",
              "    .dataframe tbody tr th:only-of-type {\n",
              "        vertical-align: middle;\n",
              "    }\n",
              "\n",
              "    .dataframe tbody tr th {\n",
              "        vertical-align: top;\n",
              "    }\n",
              "\n",
              "    .dataframe thead th {\n",
              "        text-align: right;\n",
              "    }\n",
              "</style>\n",
              "<table border=\"1\" class=\"dataframe\">\n",
              "  <thead>\n",
              "    <tr style=\"text-align: right;\">\n",
              "      <th></th>\n",
              "      <th>Survived</th>\n",
              "      <th>Pclass</th>\n",
              "      <th>Sex</th>\n",
              "      <th>Age</th>\n",
              "      <th>Fare</th>\n",
              "      <th>Embarked</th>\n",
              "      <th>relatives</th>\n",
              "    </tr>\n",
              "  </thead>\n",
              "  <tbody>\n",
              "    <tr>\n",
              "      <th>0</th>\n",
              "      <td>0</td>\n",
              "      <td>3</td>\n",
              "      <td>0</td>\n",
              "      <td>2</td>\n",
              "      <td>0</td>\n",
              "      <td>0</td>\n",
              "      <td>1</td>\n",
              "    </tr>\n",
              "    <tr>\n",
              "      <th>1</th>\n",
              "      <td>1</td>\n",
              "      <td>1</td>\n",
              "      <td>1</td>\n",
              "      <td>5</td>\n",
              "      <td>3</td>\n",
              "      <td>1</td>\n",
              "      <td>1</td>\n",
              "    </tr>\n",
              "    <tr>\n",
              "      <th>2</th>\n",
              "      <td>1</td>\n",
              "      <td>3</td>\n",
              "      <td>1</td>\n",
              "      <td>3</td>\n",
              "      <td>0</td>\n",
              "      <td>0</td>\n",
              "      <td>0</td>\n",
              "    </tr>\n",
              "    <tr>\n",
              "      <th>3</th>\n",
              "      <td>1</td>\n",
              "      <td>1</td>\n",
              "      <td>1</td>\n",
              "      <td>5</td>\n",
              "      <td>3</td>\n",
              "      <td>0</td>\n",
              "      <td>1</td>\n",
              "    </tr>\n",
              "    <tr>\n",
              "      <th>4</th>\n",
              "      <td>0</td>\n",
              "      <td>3</td>\n",
              "      <td>0</td>\n",
              "      <td>5</td>\n",
              "      <td>1</td>\n",
              "      <td>0</td>\n",
              "      <td>0</td>\n",
              "    </tr>\n",
              "  </tbody>\n",
              "</table>\n",
              "</div>"
            ],
            "text/plain": [
              "   Survived  Pclass  Sex  Age  Fare  Embarked  relatives\n",
              "0         0       3    0    2     0         0          1\n",
              "1         1       1    1    5     3         1          1\n",
              "2         1       3    1    3     0         0          0\n",
              "3         1       1    1    5     3         0          1\n",
              "4         0       3    0    5     1         0          0"
            ]
          },
          "metadata": {
            "tags": []
          },
          "execution_count": 33
        }
      ]
    },
    {
      "cell_type": "markdown",
      "metadata": {
        "id": "efJshG1HLKXa",
        "colab_type": "text"
      },
      "source": [
        "**Splitting into training and testing data**"
      ]
    },
    {
      "cell_type": "code",
      "metadata": {
        "id": "ZSJYRbzTLPA4",
        "colab_type": "code",
        "colab": {}
      },
      "source": [
        "X_train = train_df.drop(\"Survived\", axis=1)\n",
        "Y_train = train_df[\"Survived\"]\n",
        "X_test  = test_df"
      ],
      "execution_count": 0,
      "outputs": []
    },
    {
      "cell_type": "markdown",
      "metadata": {
        "id": "yHIi7TyYLR-g",
        "colab_type": "text"
      },
      "source": [
        "**Applying Random Forest Classifier**"
      ]
    },
    {
      "cell_type": "code",
      "metadata": {
        "id": "DOrGANK0LY71",
        "colab_type": "code",
        "colab": {}
      },
      "source": [
        "random_forest = RandomForestClassifier(n_estimators=100)\n",
        "random_forest.fit(X_train, Y_train)\n",
        "\n",
        "Y_prediction = random_forest.predict(X_test)\n",
        "\n",
        "random_forest.score(X_train, Y_train)\n",
        "acc_random_forest = round(random_forest.score(X_train, Y_train) * 100, 2)"
      ],
      "execution_count": 0,
      "outputs": []
    },
    {
      "cell_type": "markdown",
      "metadata": {
        "id": "uTmB4E9xLeiZ",
        "colab_type": "text"
      },
      "source": [
        "**Applying Logistic Regression Classifier**"
      ]
    },
    {
      "cell_type": "code",
      "metadata": {
        "id": "KfLBLBFVLhSm",
        "colab_type": "code",
        "colab": {}
      },
      "source": [
        "logreg = LogisticRegression()\n",
        "logreg.fit(X_train, Y_train)\n",
        "\n",
        "Y_pred = logreg.predict(X_test)\n",
        "\n",
        "acc_log = round(logreg.score(X_train, Y_train) * 100, 2)"
      ],
      "execution_count": 0,
      "outputs": []
    },
    {
      "cell_type": "markdown",
      "metadata": {
        "id": "lVaA5XUJLmLi",
        "colab_type": "text"
      },
      "source": [
        "**Applying K Nearest Neighbour Classifier**"
      ]
    },
    {
      "cell_type": "code",
      "metadata": {
        "id": "qVSoi88PLnoN",
        "colab_type": "code",
        "colab": {}
      },
      "source": [
        "knn = KNeighborsClassifier(n_neighbors = 3)\n",
        "knn.fit(X_train, Y_train) \n",
        "Y_pred = knn.predict(X_test)\n",
        "acc_knn = round(knn.score(X_train, Y_train) * 100, 2)"
      ],
      "execution_count": 0,
      "outputs": []
    },
    {
      "cell_type": "markdown",
      "metadata": {
        "id": "FQpK3Jt0Lu8L",
        "colab_type": "text"
      },
      "source": [
        "**Applying Gaussian Naive Bayes Classifier**"
      ]
    },
    {
      "cell_type": "code",
      "metadata": {
        "id": "pDWObhrrLxoK",
        "colab_type": "code",
        "colab": {}
      },
      "source": [
        "gaussian = GaussianNB()\n",
        "gaussian.fit(X_train, Y_train) \n",
        "Y_pred = gaussian.predict(X_test)\n",
        "acc_gaussian = round(gaussian.score(X_train, Y_train) * 100, 2)"
      ],
      "execution_count": 0,
      "outputs": []
    },
    {
      "cell_type": "markdown",
      "metadata": {
        "id": "00UnYdlzL3So",
        "colab_type": "text"
      },
      "source": [
        "**Applying Linear SVC**"
      ]
    },
    {
      "cell_type": "code",
      "metadata": {
        "id": "Fs0zLmm_L4FA",
        "colab_type": "code",
        "colab": {
          "base_uri": "https://localhost:8080/",
          "height": 71
        },
        "outputId": "f8c6171c-4519-4edb-d8c1-466bfa39de74"
      },
      "source": [
        "linear_svc = LinearSVC()\n",
        "linear_svc.fit(X_train, Y_train)\n",
        "\n",
        "Y_pred = linear_svc.predict(X_test)\n",
        "\n",
        "acc_linear_svc = round(linear_svc.score(X_train, Y_train) * 100, 2)"
      ],
      "execution_count": 39,
      "outputs": [
        {
          "output_type": "stream",
          "text": [
            "/usr/local/lib/python3.6/dist-packages/sklearn/svm/_base.py:947: ConvergenceWarning: Liblinear failed to converge, increase the number of iterations.\n",
            "  \"the number of iterations.\", ConvergenceWarning)\n"
          ],
          "name": "stderr"
        }
      ]
    },
    {
      "cell_type": "markdown",
      "metadata": {
        "id": "7-4drAM1RH8D",
        "colab_type": "text"
      },
      "source": [
        "**Applying Decision Tree**"
      ]
    },
    {
      "cell_type": "code",
      "metadata": {
        "id": "vfjdD_rkROwo",
        "colab_type": "code",
        "colab": {}
      },
      "source": [
        "decision_tree = DecisionTreeClassifier()\n",
        "decision_tree.fit(X_train, Y_train)\n",
        "Y_pred = decision_tree.predict(X_test)\n",
        "acc_decision_tree = round(decision_tree.score(X_train, Y_train) * 100, 2)"
      ],
      "execution_count": 0,
      "outputs": []
    },
    {
      "cell_type": "markdown",
      "metadata": {
        "id": "9IVy47JAL9mf",
        "colab_type": "text"
      },
      "source": [
        "**Analyzing which model has most accuracy**"
      ]
    },
    {
      "cell_type": "code",
      "metadata": {
        "id": "wMY0P3ZYMEQ2",
        "colab_type": "code",
        "colab": {
          "base_uri": "https://localhost:8080/",
          "height": 266
        },
        "outputId": "dd1a6be9-7e83-4b46-f9f2-5b7dfa06a2f1"
      },
      "source": [
        "results = pd.DataFrame({\n",
        "    'Model': ['Support Vector Machines', 'KNN', 'Logistic Regression', 'Random Forest', 'Naive Bayes','Decision Tree'],\n",
        "    'Score': [acc_linear_svc, acc_knn, acc_log, acc_random_forest, acc_gaussian, acc_decision_tree]})\n",
        "result_df = results.sort_values(by='Score', ascending=False)\n",
        "result_df = result_df.set_index('Score')\n",
        "result_df.head(7)"
      ],
      "execution_count": 41,
      "outputs": [
        {
          "output_type": "execute_result",
          "data": {
            "text/html": [
              "<div>\n",
              "<style scoped>\n",
              "    .dataframe tbody tr th:only-of-type {\n",
              "        vertical-align: middle;\n",
              "    }\n",
              "\n",
              "    .dataframe tbody tr th {\n",
              "        vertical-align: top;\n",
              "    }\n",
              "\n",
              "    .dataframe thead th {\n",
              "        text-align: right;\n",
              "    }\n",
              "</style>\n",
              "<table border=\"1\" class=\"dataframe\">\n",
              "  <thead>\n",
              "    <tr style=\"text-align: right;\">\n",
              "      <th></th>\n",
              "      <th>Model</th>\n",
              "    </tr>\n",
              "    <tr>\n",
              "      <th>Score</th>\n",
              "      <th></th>\n",
              "    </tr>\n",
              "  </thead>\n",
              "  <tbody>\n",
              "    <tr>\n",
              "      <th>90.01</th>\n",
              "      <td>Random Forest</td>\n",
              "    </tr>\n",
              "    <tr>\n",
              "      <th>90.01</th>\n",
              "      <td>Decision Tree</td>\n",
              "    </tr>\n",
              "    <tr>\n",
              "      <th>86.87</th>\n",
              "      <td>KNN</td>\n",
              "    </tr>\n",
              "    <tr>\n",
              "      <th>80.58</th>\n",
              "      <td>Logistic Regression</td>\n",
              "    </tr>\n",
              "    <tr>\n",
              "      <th>80.25</th>\n",
              "      <td>Support Vector Machines</td>\n",
              "    </tr>\n",
              "    <tr>\n",
              "      <th>77.78</th>\n",
              "      <td>Naive Bayes</td>\n",
              "    </tr>\n",
              "  </tbody>\n",
              "</table>\n",
              "</div>"
            ],
            "text/plain": [
              "                         Model\n",
              "Score                         \n",
              "90.01            Random Forest\n",
              "90.01            Decision Tree\n",
              "86.87                      KNN\n",
              "80.58      Logistic Regression\n",
              "80.25  Support Vector Machines\n",
              "77.78              Naive Bayes"
            ]
          },
          "metadata": {
            "tags": []
          },
          "execution_count": 41
        }
      ]
    },
    {
      "cell_type": "markdown",
      "metadata": {
        "id": "WVOUPEnmSTgf",
        "colab_type": "text"
      },
      "source": [
        "Inference:\n",
        "\n",
        "* Thus, Random Forest classifier and Decision Tree has the majority accuracy of 90.01%"
      ]
    }
  ]
}